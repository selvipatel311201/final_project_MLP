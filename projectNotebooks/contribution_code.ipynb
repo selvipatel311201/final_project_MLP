{
  "nbformat": 4,
  "nbformat_minor": 0,
  "metadata": {
    "colab": {
      "provenance": [],
      "gpuType": "T4"
    },
    "kernelspec": {
      "name": "python3",
      "display_name": "Python 3"
    },
    "language_info": {
      "name": "python"
    },
    "accelerator": "GPU"
  },
  "cells": [
    {
      "cell_type": "markdown",
      "source": [
        "## Training for 25 epochs instead of 10 to increase performance"
      ],
      "metadata": {
        "id": "JhPAuzO4vQ-y"
      }
    },
    {
      "cell_type": "markdown",
      "source": [
        "#  My Contribution – Fine-Tuning EfficientNet-B0 on CIFAR-10\n",
        "\n",
        "This notebook represents the contribution phase of our project. After evaluating the pretrained EfficientNet-B0 model on CIFAR-10 in the previous notebook (`paper_implementation.ipynb`), we now fine-tune the model to improve its performance.\n",
        "\n",
        "###  Training Strategy\n",
        "\n",
        "We explored two options:\n",
        "1. Freezing all feature extraction layers and training only the classifier.\n",
        "2. Fine-tuning the entire model (our selected approach).\n",
        "\n",
        "Fine-tuning all layers allows the model to learn CIFAR-10-specific features while still benefiting from pretrained ImageNet knowledge. Freezing can be done using:\n",
        "```python\n",
        "for param in model.features.parameters():\n",
        "    param.requires_grad = False\n"
      ],
      "metadata": {
        "id": "JLNPQmxrxnyy"
      }
    },
    {
      "cell_type": "code",
      "source": [
        "# Fine-tuning the model with logging and performance tracking\n",
        "\n",
        "#  we discussed two options for training:\n",
        "# 1. Freeze the feature extractor layers and train only the final classification layer.\n",
        "# 2. Fine-tune the entire model including all layers.\n",
        "\n",
        "# Freezing layers can reduce training time and retain pretrained knowledge,\n",
        "# and we could’ve done that using:\n",
        "# for param in model.features.parameters():\n",
        "#     param.requires_grad = False\n",
        "\n",
        "# However, we chose to fine-tune the whole network so it could better adapt to the CIFAR-10 dataset.\n",
        "# This allowed the model to adjust its internal representations more effectively.\n",
        "# We also considered experimenting with partial freezing for comparison, which can be a future extension.\n",
        "\n",
        "model.train()  # set to training mode\n",
        "\n",
        "criterion = nn.CrossEntropyLoss()\n",
        "optimizer = optim.Adam(model.parameters(), lr=1e-3)\n",
        "\n",
        "EPOCHS = 25\n",
        "\n",
        "train_losses = []\n",
        "test_accuracies = []\n",
        "\n",
        "for epoch in range(EPOCHS):\n",
        "    model.train()\n",
        "    running_loss = 0.0\n",
        "    partial_loss = 0.0\n",
        "    steps_in_partial = 0\n",
        "\n",
        "    for i, (inputs, labels) in enumerate(train_loader):\n",
        "        inputs, labels = inputs.to(device), labels.to(device)\n",
        "\n",
        "        # Zero out gradients\n",
        "        optimizer.zero_grad()\n",
        "\n",
        "        # Forward pass\n",
        "        outputs = model(inputs)\n",
        "        loss = criterion(outputs, labels)\n",
        "\n",
        "        # Backward pass\n",
        "        loss.backward()\n",
        "        optimizer.step()\n",
        "\n",
        "        # Accumulate training loss\n",
        "        running_loss += loss.item()\n",
        "        partial_loss += loss.item()\n",
        "        steps_in_partial += 1\n",
        "\n",
        "        # Print partial logs every 250 mini-batches\n",
        "        if (i + 1) % 250 == 0:\n",
        "            avg_partial = partial_loss / steps_in_partial\n",
        "            print(f\"Epoch [{epoch+1}/{EPOCHS}], Step [{i+1}/{len(train_loader)}], \"\n",
        "                  f\"Partial Average Loss: {avg_partial:.4f}\")\n",
        "            # Reset partial counters\n",
        "            partial_loss = 0.0\n",
        "            steps_in_partial = 0\n",
        "\n",
        "    # Average training loss over the entire epoch\n",
        "    avg_train_loss = running_loss / len(train_loader)\n",
        "    train_losses.append(avg_train_loss)\n",
        "\n",
        "    # Evaluate on test set (note: pass 'device' to evaluate)\n",
        "    test_acc = evaluate(model, test_loader, device)\n",
        "    test_accuracies.append(test_acc)\n",
        "\n",
        "    # Print epoch summary\n",
        "    print(f\"--- EPOCH {epoch+1} FINISHED ---\\n\"\n",
        "          f\"Avg Train Loss: {avg_train_loss:.4f}, Test Accuracy: {test_acc:.2f}%\\n\")\n"
      ],
      "metadata": {
        "colab": {
          "base_uri": "https://localhost:8080/"
        },
        "id": "r0moQ_gnnCnX",
        "outputId": "b39b7e7c-f29b-4092-e70e-5b4c1a1cb6a0"
      },
      "execution_count": null,
      "outputs": [
        {
          "output_type": "stream",
          "name": "stdout",
          "text": [
            "Epoch [1/25], Step [250/782], Partial Average Loss: 1.4923\n",
            "Epoch [1/25], Step [500/782], Partial Average Loss: 1.0495\n",
            "Epoch [1/25], Step [750/782], Partial Average Loss: 0.9167\n",
            "--- EPOCH 1 FINISHED ---\n",
            "Avg Train Loss: 1.1414, Test Accuracy: 73.82%\n",
            "\n",
            "Epoch [2/25], Step [250/782], Partial Average Loss: 0.8112\n",
            "Epoch [2/25], Step [500/782], Partial Average Loss: 0.7582\n",
            "Epoch [2/25], Step [750/782], Partial Average Loss: 0.7329\n",
            "--- EPOCH 2 FINISHED ---\n",
            "Avg Train Loss: 0.7657, Test Accuracy: 77.93%\n",
            "\n",
            "Epoch [3/25], Step [250/782], Partial Average Loss: 0.6792\n",
            "Epoch [3/25], Step [500/782], Partial Average Loss: 0.6650\n",
            "Epoch [3/25], Step [750/782], Partial Average Loss: 0.6632\n",
            "--- EPOCH 3 FINISHED ---\n",
            "Avg Train Loss: 0.6691, Test Accuracy: 80.74%\n",
            "\n",
            "Epoch [4/25], Step [250/782], Partial Average Loss: 0.6181\n",
            "Epoch [4/25], Step [500/782], Partial Average Loss: 0.5996\n",
            "Epoch [4/25], Step [750/782], Partial Average Loss: 0.6092\n",
            "--- EPOCH 4 FINISHED ---\n",
            "Avg Train Loss: 0.6096, Test Accuracy: 82.69%\n",
            "\n",
            "Epoch [5/25], Step [250/782], Partial Average Loss: 0.5577\n",
            "Epoch [5/25], Step [500/782], Partial Average Loss: 0.5749\n",
            "Epoch [5/25], Step [750/782], Partial Average Loss: 0.5530\n",
            "--- EPOCH 5 FINISHED ---\n",
            "Avg Train Loss: 0.5624, Test Accuracy: 81.65%\n",
            "\n",
            "Epoch [6/25], Step [250/782], Partial Average Loss: 0.5366\n",
            "Epoch [6/25], Step [500/782], Partial Average Loss: 0.5339\n",
            "Epoch [6/25], Step [750/782], Partial Average Loss: 0.5501\n",
            "--- EPOCH 6 FINISHED ---\n",
            "Avg Train Loss: 0.5401, Test Accuracy: 83.64%\n",
            "\n",
            "Epoch [7/25], Step [250/782], Partial Average Loss: 0.5067\n",
            "Epoch [7/25], Step [500/782], Partial Average Loss: 0.4944\n",
            "Epoch [7/25], Step [750/782], Partial Average Loss: 0.5142\n",
            "--- EPOCH 7 FINISHED ---\n",
            "Avg Train Loss: 0.5053, Test Accuracy: 84.67%\n",
            "\n",
            "Epoch [8/25], Step [250/782], Partial Average Loss: 0.4715\n",
            "Epoch [8/25], Step [500/782], Partial Average Loss: 0.4857\n",
            "Epoch [8/25], Step [750/782], Partial Average Loss: 0.4797\n",
            "--- EPOCH 8 FINISHED ---\n",
            "Avg Train Loss: 0.4799, Test Accuracy: 84.38%\n",
            "\n",
            "Epoch [9/25], Step [250/782], Partial Average Loss: 0.4541\n",
            "Epoch [9/25], Step [500/782], Partial Average Loss: 0.4639\n",
            "Epoch [9/25], Step [750/782], Partial Average Loss: 0.4504\n",
            "--- EPOCH 9 FINISHED ---\n",
            "Avg Train Loss: 0.4564, Test Accuracy: 83.94%\n",
            "\n",
            "Epoch [10/25], Step [250/782], Partial Average Loss: 0.4399\n",
            "Epoch [10/25], Step [500/782], Partial Average Loss: 0.4450\n",
            "Epoch [10/25], Step [750/782], Partial Average Loss: 0.4386\n",
            "--- EPOCH 10 FINISHED ---\n",
            "Avg Train Loss: 0.4389, Test Accuracy: 84.35%\n",
            "\n",
            "Epoch [11/25], Step [250/782], Partial Average Loss: 0.4213\n",
            "Epoch [11/25], Step [500/782], Partial Average Loss: 0.4246\n",
            "Epoch [11/25], Step [750/782], Partial Average Loss: 0.4281\n",
            "--- EPOCH 11 FINISHED ---\n",
            "Avg Train Loss: 0.4253, Test Accuracy: 85.30%\n",
            "\n",
            "Epoch [12/25], Step [250/782], Partial Average Loss: 0.4004\n",
            "Epoch [12/25], Step [500/782], Partial Average Loss: 0.4038\n",
            "Epoch [12/25], Step [750/782], Partial Average Loss: 0.4099\n",
            "--- EPOCH 12 FINISHED ---\n",
            "Avg Train Loss: 0.4058, Test Accuracy: 86.34%\n",
            "\n",
            "Epoch [13/25], Step [250/782], Partial Average Loss: 0.3717\n",
            "Epoch [13/25], Step [500/782], Partial Average Loss: 0.3994\n",
            "Epoch [13/25], Step [750/782], Partial Average Loss: 0.3994\n",
            "--- EPOCH 13 FINISHED ---\n",
            "Avg Train Loss: 0.3902, Test Accuracy: 85.86%\n",
            "\n",
            "Epoch [14/25], Step [250/782], Partial Average Loss: 0.3644\n",
            "Epoch [14/25], Step [500/782], Partial Average Loss: 0.3798\n",
            "Epoch [14/25], Step [750/782], Partial Average Loss: 0.3867\n",
            "--- EPOCH 14 FINISHED ---\n",
            "Avg Train Loss: 0.3762, Test Accuracy: 85.90%\n",
            "\n",
            "Epoch [15/25], Step [250/782], Partial Average Loss: 0.3642\n",
            "Epoch [15/25], Step [500/782], Partial Average Loss: 0.3689\n",
            "Epoch [15/25], Step [750/782], Partial Average Loss: 0.3729\n",
            "--- EPOCH 15 FINISHED ---\n",
            "Avg Train Loss: 0.3700, Test Accuracy: 86.28%\n",
            "\n",
            "Epoch [16/25], Step [250/782], Partial Average Loss: 0.3448\n",
            "Epoch [16/25], Step [500/782], Partial Average Loss: 0.3452\n",
            "Epoch [16/25], Step [750/782], Partial Average Loss: 0.3624\n",
            "--- EPOCH 16 FINISHED ---\n",
            "Avg Train Loss: 0.3514, Test Accuracy: 85.82%\n",
            "\n",
            "Epoch [17/25], Step [250/782], Partial Average Loss: 0.3506\n",
            "Epoch [17/25], Step [500/782], Partial Average Loss: 0.3479\n",
            "Epoch [17/25], Step [750/782], Partial Average Loss: 0.3475\n",
            "--- EPOCH 17 FINISHED ---\n",
            "Avg Train Loss: 0.3478, Test Accuracy: 86.58%\n",
            "\n",
            "Epoch [18/25], Step [250/782], Partial Average Loss: 0.3152\n",
            "Epoch [18/25], Step [500/782], Partial Average Loss: 0.3273\n",
            "Epoch [18/25], Step [750/782], Partial Average Loss: 0.3201\n",
            "--- EPOCH 18 FINISHED ---\n",
            "Avg Train Loss: 0.3231, Test Accuracy: 85.80%\n",
            "\n",
            "Epoch [19/25], Step [250/782], Partial Average Loss: 0.3130\n",
            "Epoch [19/25], Step [500/782], Partial Average Loss: 0.3269\n",
            "Epoch [19/25], Step [750/782], Partial Average Loss: 0.3337\n",
            "--- EPOCH 19 FINISHED ---\n",
            "Avg Train Loss: 0.3264, Test Accuracy: 85.95%\n",
            "\n",
            "Epoch [20/25], Step [250/782], Partial Average Loss: 0.3122\n",
            "Epoch [20/25], Step [500/782], Partial Average Loss: 0.3179\n",
            "Epoch [20/25], Step [750/782], Partial Average Loss: 0.2945\n",
            "--- EPOCH 20 FINISHED ---\n",
            "Avg Train Loss: 0.3099, Test Accuracy: 82.83%\n",
            "\n",
            "Epoch [21/25], Step [250/782], Partial Average Loss: 0.3100\n",
            "Epoch [21/25], Step [500/782], Partial Average Loss: 0.3134\n",
            "Epoch [21/25], Step [750/782], Partial Average Loss: 0.3038\n",
            "--- EPOCH 21 FINISHED ---\n",
            "Avg Train Loss: 0.3089, Test Accuracy: 86.53%\n",
            "\n",
            "Epoch [22/25], Step [250/782], Partial Average Loss: 0.2865\n",
            "Epoch [22/25], Step [500/782], Partial Average Loss: 0.2924\n",
            "Epoch [22/25], Step [750/782], Partial Average Loss: 0.2933\n",
            "--- EPOCH 22 FINISHED ---\n",
            "Avg Train Loss: 0.2926, Test Accuracy: 87.30%\n",
            "\n",
            "Epoch [23/25], Step [250/782], Partial Average Loss: 0.2767\n",
            "Epoch [23/25], Step [500/782], Partial Average Loss: 0.2949\n",
            "Epoch [23/25], Step [750/782], Partial Average Loss: 0.2876\n",
            "--- EPOCH 23 FINISHED ---\n",
            "Avg Train Loss: 0.2865, Test Accuracy: 86.57%\n",
            "\n",
            "Epoch [24/25], Step [250/782], Partial Average Loss: 0.2594\n",
            "Epoch [24/25], Step [500/782], Partial Average Loss: 0.2784\n",
            "Epoch [24/25], Step [750/782], Partial Average Loss: 0.2795\n",
            "--- EPOCH 24 FINISHED ---\n",
            "Avg Train Loss: 0.2731, Test Accuracy: 86.98%\n",
            "\n",
            "Epoch [25/25], Step [250/782], Partial Average Loss: 0.2433\n",
            "Epoch [25/25], Step [500/782], Partial Average Loss: 0.2767\n",
            "Epoch [25/25], Step [750/782], Partial Average Loss: 0.2797\n",
            "--- EPOCH 25 FINISHED ---\n",
            "Avg Train Loss: 0.2697, Test Accuracy: 86.52%\n",
            "\n"
          ]
        }
      ]
    },
    {
      "cell_type": "markdown",
      "source": [
        "Optimizer: Adam (lr = 0.001)\n",
        "\n",
        "Loss Function: CrossEntropyLoss\n",
        "\n",
        "Epochs: 25\n",
        "\n",
        "Batch Size: 64\n",
        "\n",
        "Metrics Tracked: Training loss and test accuracy after each epoch\n",
        "\n",
        "We trained the model using the standard PyTorch training loop and evaluated accuracy on the test set after each epoch. Results were stored in lists and visualized using line plots"
      ],
      "metadata": {
        "id": "cRBVPvqhx21A"
      }
    },
    {
      "cell_type": "code",
      "source": [
        "\n",
        "#  Plot Training Loss and Test Accuracy\n",
        "\n",
        "import matplotlib.pyplot as plt\n",
        "\n",
        "# Plot Training Loss\n",
        "plt.figure()\n",
        "plt.plot(range(1, EPOCHS+1), train_losses, label=\"Training Loss\")\n",
        "plt.title(\"Training Loss Over Epochs\")\n",
        "plt.xlabel(\"Epoch\")\n",
        "plt.ylabel(\"Loss\")\n",
        "plt.legend()\n",
        "plt.show()\n",
        "\n",
        "# Plot Test Accuracy\n",
        "plt.figure()\n",
        "plt.plot(range(1, EPOCHS+1), test_accuracies, label=\"Test Accuracy\")\n",
        "plt.title(\"Test Accuracy Over Epochs\")\n",
        "plt.xlabel(\"Epoch\")\n",
        "plt.ylabel(\"Accuracy (%)\")\n",
        "plt.legend()\n",
        "plt.show()"
      ],
      "metadata": {
        "colab": {
          "base_uri": "https://localhost:8080/",
          "height": 927
        },
        "id": "26mbJiS4wt8d",
        "outputId": "f54498a2-a980-4d58-92a1-5f5ca40109c4"
      },
      "execution_count": null,
      "outputs": [
        {
          "output_type": "display_data",
          "data": {
            "text/plain": [
              "<Figure size 640x480 with 1 Axes>"
            ],
            "image/png": "[encoded data removed]"
          },
          "metadata": {}
        },
        {
          "output_type": "display_data",
          "data": {
            "text/plain": [
              "<Figure size 640x480 with 1 Axes>"
            ],
            "image/png": "[encoded data removed]"
          },
          "metadata": {}
        }
      ]
    },
    {
      "cell_type": "markdown",
      "source": [
        "After training:\n",
        "\n",
        "We evaluated the model using the same evaluate() function from the implementation notebook.\n",
        "\n",
        "We compared the model’s performance before and after fine-tuning.\n",
        "\n"
      ],
      "metadata": {
        "id": "nxGjjmoxx-Y1"
      }
    },
    {
      "cell_type": "code",
      "source": [
        "\n",
        "#  Evaluate Model AFTER Fine-Tuning\n",
        "\n",
        "post_finetune_acc = evaluate(model, test_loader, device)\n",
        "print(f\"Accuracy of the fine-tuned model on CIFAR-10: {post_finetune_acc:.2f}%\")\n"
      ],
      "metadata": {
        "colab": {
          "base_uri": "https://localhost:8080/"
        },
        "id": "8rauvqDHnCk_",
        "outputId": "0c8e3723-db50-46f7-ce72-5474fd30cd08"
      },
      "execution_count": null,
      "outputs": [
        {
          "output_type": "stream",
          "name": "stdout",
          "text": [
            "Accuracy of the fine-tuned model on CIFAR-10: 86.52%\n"
          ]
        }
      ]
    },
    {
      "cell_type": "code",
      "source": [
        "\n",
        "#  Compare Performance\n",
        "print(\"--------------------------------------------------\")\n",
        "print(f\"Pre-Fine-Tuning Accuracy:  {pre_finetune_acc:.2f}%\")\n",
        "print(f\"Post-Fine-Tuning Accuracy: {post_finetune_acc:.2f}%\")"
      ],
      "metadata": {
        "colab": {
          "base_uri": "https://localhost:8080/"
        },
        "id": "RvPV8CBgnCjL",
        "outputId": "937cf9d7-c2c7-4394-fa1e-e621e5309aaf"
      },
      "execution_count": null,
      "outputs": [
        {
          "output_type": "stream",
          "name": "stdout",
          "text": [
            "--------------------------------------------------\n",
            "Pre-Fine-Tuning Accuracy:  9.89%\n",
            "Post-Fine-Tuning Accuracy: 86.52%\n"
          ]
        }
      ]
    },
    {
      "cell_type": "markdown",
      "source": [
        "Our fine-tuning contribution significantly improved the model’s performance on CIFAR-10. The pretrained model alone was not sufficient for this dataset, but by allowing the network to adapt, we leveraged transfer learning to achieve high accuracy with limited data and compute."
      ],
      "metadata": {
        "id": "97YjAeH1yHOd"
      }
    },
    {
      "cell_type": "code",
      "source": [],
      "metadata": {
        "id": "HbhNZmsLnCgk"
      },
      "execution_count": null,
      "outputs": []
    },
    {
      "cell_type": "code",
      "source": [],
      "metadata": {
        "id": "yCxqb6kHnCeN"
      },
      "execution_count": null,
      "outputs": []
    },
    {
      "cell_type": "code",
      "source": [],
      "metadata": {
        "id": "a3BTfvT1nCcH"
      },
      "execution_count": null,
      "outputs": []
    },
    {
      "cell_type": "code",
      "source": [],
      "metadata": {
        "id": "5EpwnS9AnCaD"
      },
      "execution_count": null,
      "outputs": []
    },
    {
      "cell_type": "code",
      "source": [],
      "metadata": {
        "id": "v4DtC4HknCX_"
      },
      "execution_count": null,
      "outputs": []
    },
    {
      "cell_type": "code",
      "source": [],
      "metadata": {
        "id": "YUKC_3THnCUF"
      },
      "execution_count": null,
      "outputs": []
    },
    {
      "cell_type": "code",
      "source": [],
      "metadata": {
        "id": "X11yuYT6nCP4"
      },
      "execution_count": null,
      "outputs": []
    },
    {
      "cell_type": "code",
      "source": [],
      "metadata": {
        "id": "wnjaetDfnCL-"
      },
      "execution_count": null,
      "outputs": []
    },
    {
      "cell_type": "code",
      "source": [],
      "metadata": {
        "id": "yEkIPckPnCJ4"
      },
      "execution_count": null,
      "outputs": []
    },
    {
      "cell_type": "code",
      "source": [],
      "metadata": {
        "id": "Bc2XKiyBnCHl"
      },
      "execution_count": null,
      "outputs": []
    }
  ]
}